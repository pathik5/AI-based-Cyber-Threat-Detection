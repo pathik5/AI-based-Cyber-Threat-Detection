
# Install dependencies (only once)
!pip install pandas scikit-learn joblib

# Import libraries
import pandas as pd
from sklearn.model_selection import train_test_split
from sklearn.ensemble import RandomForestClassifier
import joblib

# Sample dataset (replace this with your real cybersecurity dataset)
data = pd.DataFrame({
    'feature1': [0.1, 0.3, 0.5, 0.7],
    'feature2': [1.2, 3.4, 5.6, 7.8],
    'threat': [0, 1, 0, 1]  # 0 = safe, 1 = threat
})

# Features and Labels
X = data[['feature1', 'feature2']]
y = data['threat']

# Train-Test Split
X_train, X_test, y_train, y_test = train_test_split(X, y, test_size=0.2, random_state=42)

# Model Training
model = RandomForestClassifier()
model.fit(X_train, y_train)

# Save the trained model to backend folder
joblib.dump(model, 'backend/model.pkl')

print("✅ Model saved to backend/model.pkl")
